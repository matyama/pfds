{
 "cells": [
  {
   "cell_type": "markdown",
   "id": "de95ac73",
   "metadata": {},
   "source": [
    "# Sortable Collections\n",
    "[![nbviewer](https://raw.githubusercontent.com/jupyter/design/master/logos/Badges/nbviewer_badge.svg)](https://nbviewer.org/github/matyama/pfds/blob/main/notebooks/sortable.ipynb)\n",
    "\n",
    "|       instance       | persistence | amortization | empty |     add    |  sort |\n",
    "|:--------------------:|:-----------:|:------------:|:-----:|:----------:|:-----:|\n",
    "|      Merge Sort      |  persistent |      yes     |  O(1) | O(log(n))* | O(n)* |\n",
    "| Scheduled Merge Sort |  persistent |      no      |  O(1) |  O(log(n)) |  O(n) |"
   ]
  },
  {
   "cell_type": "code",
   "execution_count": null,
   "id": "3cdd33ba",
   "metadata": {},
   "outputs": [],
   "source": [
    "class Sortable s where\n",
    "    \n",
    "    -- | Construct new (empty) collection\n",
    "    empty :: Ord a => s a\n",
    "    \n",
    "    -- | Add new item to an existing sorted collection\n",
    "    add :: Ord a => a -> s a -> s a\n",
    "    \n",
    "    -- | Convert a (sorted) collection into a sorted list\n",
    "    sort :: Ord a => s a -> [a]"
   ]
  },
  {
   "cell_type": "markdown",
   "id": "ffc7c8a4",
   "metadata": {},
   "source": [
    "## Bottom-up Merge Sort\n",
    "An instance of `Sortable` that is based on a [bottom-up *Merge Sort*](https://en.wikipedia.org/wiki/Merge_sort#Bottom-up_implementation)."
   ]
  },
  {
   "cell_type": "code",
   "execution_count": null,
   "id": "a31a60c7",
   "metadata": {},
   "outputs": [],
   "source": [
    "data MergeSort a = MS Int [[a]]\n",
    "\n",
    "-- | Merge two sorted lists together.\n",
    "mrg :: Ord a => [a] -> [a] -> [a]\n",
    "mrg [] ys = ys\n",
    "mrg xs [] = xs\n",
    "mrg xs @ (x:xs') ys @ (y:ys') =\n",
    "    if x <= y then x : mrg xs' ys\n",
    "    else y : mrg xs ys'\n",
    "\n",
    "instance Sortable MergeSort where\n",
    "\n",
    "    -- | Construct new (empty) collection in O(1).\n",
    "    empty = MS 0 []\n",
    "    \n",
    "    -- | Add new item to an existing sorted collection in O(log(n)) amortized time.\n",
    "    add x (MS size segs) = MS (size + 1) (addSeg [x] segs size)\n",
    "        where\n",
    "            addSeg seg segs size =\n",
    "                if even size then seg : segs\n",
    "                else addSeg (mrg seg (Prelude.head segs)) (Prelude.tail segs) (size `div` 2)\n",
    "    \n",
    "    -- | Convert a (sorted) collection into a sorted list in O(n) amortized steps.\n",
    "    sort (MS size segs) = foldl mrg [] segs"
   ]
  },
  {
   "cell_type": "markdown",
   "id": "e90b7777",
   "metadata": {},
   "source": [
    "## Scheduled Bottom-up Merge Sort\n",
    "An instance of `Sortable` that improves on `MergeSort` by incorporating *scheduling* to make the bounds worst case rather than amortized."
   ]
  },
  {
   "cell_type": "code",
   "execution_count": null,
   "id": "159c78e0",
   "metadata": {},
   "outputs": [],
   "source": [
    "-- | Schedule = [unevaluated suspensions per merge call]\n",
    "type Schedule a = [[a]]\n",
    "\n",
    "-- | SMS = (size, [(segment, segment's schedule)])\n",
    "data ScheduledMergeSort a = SMS Int [([a], Schedule a)]\n",
    "\n",
    "-- | Execute one merge step from a schedule by matching againt the head of the front stream.\n",
    "-- | \n",
    "-- | Note: Since only the first list in a schedule can ever be empty the second clause, \n",
    "-- |       which executes next stream from the schedule if one ends, this function never loops.\n",
    "exec1 :: Schedule a -> Schedule a\n",
    "exec1 [] = []\n",
    "exec1 ([]:schedule) = exec1 schedule\n",
    "exec1 ((_:xs):schedule) = xs : schedule\n",
    "\n",
    "-- | Execute the schedule twice and returns resulting schdule paired with the input segment.\n",
    "exec2 :: [a] -> Schedule a -> ([a], Schedule a)\n",
    "exec2 xs schedule = (xs, exec1 $ exec1 schedule)\n",
    "\n",
    "instance Sortable ScheduledMergeSort where\n",
    "\n",
    "    -- | Construct new (empty) collection in O(1).\n",
    "    empty = SMS 0 []\n",
    "    \n",
    "    -- | Add new item to an existing sorted collection in O(log(n)) worst case time.\n",
    "    add x (SMS size segs) = SMS (size + 1) (map (uncurry exec2) segs')\n",
    "        where\n",
    "            addSeg xs segs size rsched =\n",
    "                if even size then (xs, reverse rsched) : segs\n",
    "                else let ((xs', []):segs') = segs\n",
    "                         xs'' = mrg xs xs'\n",
    "                     in addSeg xs'' segs' (size `div` 2) (xs'':rsched)\n",
    "            segs' = addSeg [x] segs size []\n",
    "    \n",
    "    -- | Convert a (sorted) collection into a sorted list in O(n) worst case steps.\n",
    "    sort (SMS size segs) = mrgAll [] segs\n",
    "        where\n",
    "            mrgAll xs [] = xs\n",
    "            mrgAll xs ((xs', _):segs) = mrgAll (mrg xs xs') segs"
   ]
  }
 ],
 "metadata": {
  "kernelspec": {
   "display_name": "Haskell",
   "language": "haskell",
   "name": "haskell"
  },
  "language_info": {
   "codemirror_mode": "ihaskell",
   "file_extension": ".hs",
   "mimetype": "text/x-haskell",
   "name": "haskell",
   "pygments_lexer": "Haskell",
   "version": "8.10.4"
  }
 },
 "nbformat": 4,
 "nbformat_minor": 5
}
