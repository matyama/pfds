{
 "cells": [
  {
   "cell_type": "markdown",
   "id": "fcb89915",
   "metadata": {},
   "source": [
    "# Sets\n",
    "[![nbviewer](https://raw.githubusercontent.com/jupyter/design/master/logos/Badges/nbviewer_badge.svg)](https://nbviewer.org/github/matyama/pfds/blob/main/notebooks/sets.ipynb)\n",
    "\n",
    "|      instance      | persistence | empty |   member  |   insert  |\n",
    "|:------------------:|:-----------:|:-----:|:---------:|:---------:|\n",
    "| Binary Search Tree |  ephemeral  |  O(1) |    O(n)   |    O(n)   |\n",
    "|   Red-Black Tree   |  ephemeral  |  O(1) | O(log(n)) | O(log(n)) |"
   ]
  },
  {
   "cell_type": "code",
   "execution_count": null,
   "id": "3fb645a3",
   "metadata": {},
   "outputs": [],
   "source": [
    "class Set s where\n",
    "\n",
    "    -- | Construct new (empty) set\n",
    "    empty :: Ord a => s a\n",
    "    \n",
    "    -- | Check whether a set contains given item\n",
    "    member :: Ord a => a -> s a -> Bool\n",
    "    \n",
    "    -- | Add new item to a set while maintaining the item uniqueness property\n",
    "    insert :: Ord a => a -> s a -> s a"
   ]
  },
  {
   "cell_type": "markdown",
   "id": "c973f993",
   "metadata": {},
   "source": [
    "## Unbalanced Set\n",
    "Implementation of an unbalanced set via a *Binary Search Tree (BST)*."
   ]
  },
  {
   "cell_type": "code",
   "execution_count": null,
   "id": "fd594f12",
   "metadata": {},
   "outputs": [],
   "source": [
    "data Tree a = Empty | Node (Tree a) a (Tree a)\n",
    "\n",
    "instance Set Tree where\n",
    "\n",
    "    -- | Construct an empty set in O(1).\n",
    "    empty = Empty\n",
    "    \n",
    "    -- | Check whether this set contains given item.\n",
    "    -- | Since the underlying BST may not be balanced, this function may take O(n) steps in the worst case.\n",
    "    member _ Empty = False\n",
    "    member x (Node a y b) = case (compare x y) of\n",
    "        EQ -> True\n",
    "        LT -> member x a\n",
    "        GT -> member x b\n",
    "    \n",
    "    -- | Add new item to this set if it's not present yet.\n",
    "    -- | Similarly to 'member', for an unbalanced instance this may take up to O(n) steps.\n",
    "    insert x Empty = Node Empty x Empty\n",
    "    insert x s @ (Node a y b) = case (compare x y) of\n",
    "        EQ -> s\n",
    "        LT -> Node (insert x a) y b\n",
    "        GT -> Node a y (insert x b)"
   ]
  },
  {
   "cell_type": "markdown",
   "id": "3019771c",
   "metadata": {},
   "source": [
    "## Balanced Set\n",
    "Implementation of a balanced set via a [Red-Black Tree](https://en.wikipedia.org/wiki/Red%E2%80%93black_tree) without any fancy optimizations. Specifically, in `ins` (e.g. for the left child) dosn't have to check for all the red-red violations in `balance` (actually it does not have to check the color of any node not on the search path)."
   ]
  },
  {
   "cell_type": "code",
   "execution_count": null,
   "id": "60428d57",
   "metadata": {},
   "outputs": [],
   "source": [
    "data Color = R | B\n",
    "\n",
    "data Tree a = Empty | Node Color (Tree a) a (Tree a)\n",
    "\n",
    "-- | Re-balance and locally repair the RBT color property by pushing\n",
    "-- | one of two consecutive red nodes with a black parent up the path to the root.\n",
    "balance :: Color -> Tree a -> a -> Tree a -> Tree a\n",
    "balance B (Node R (Node R a x b) y c) z d = Node R (Node B a x b) y (Node B c z d)\n",
    "balance B (Node R a x (Node R b y c)) z d = Node R (Node B a x b) y (Node B c z d)\n",
    "balance B a x (Node R (Node R b y c) z d) = Node R (Node B a x b) y (Node B c z d)\n",
    "balance B a x (Node R b y (Node R c z d)) = Node R (Node B a x b) y (Node B c z d)\n",
    "balance color a x b = Node color a x b\n",
    "\n",
    "instance Set Tree where \n",
    "\n",
    "    -- | Construct an empty set in O(1).\n",
    "    empty = Empty\n",
    "    \n",
    "    -- | Check whether this set contains given item.\n",
    "    -- | Since the underlying RBT is balanced, this function takes O(log(n)) steps in the worst case.\n",
    "    member _ Empty = False\n",
    "    member x (Node _ a y b) = case (compare x y) of\n",
    "        EQ -> True\n",
    "        LT -> member x a\n",
    "        GT -> member x b\n",
    "    \n",
    "    -- | Add new item to this set if it's not present yet.\n",
    "    -- |\n",
    "    -- | Call to 'insert' takes at most O(log(n)) steps because the tree is kept balanced by\n",
    "    -- | 'balance' when backing up after adding new node and the fact that in a RB tree the deepest\n",
    "    -- | leaf is at most twice as far from the root as the shallowest leaf is.\n",
    "    insert x Empty = Node R Empty x Empty\n",
    "    insert x s = let (Node _ a y b) = ins s in Node B a y b\n",
    "        where\n",
    "            ins Empty = Node R Empty x Empty\n",
    "            ins s @ (Node color a y b) = case (compare x y) of\n",
    "                EQ -> s\n",
    "                LT -> balance color (ins a) y b\n",
    "                GT -> balance color a y (ins b)"
   ]
  }
 ],
 "metadata": {
  "kernelspec": {
   "display_name": "Haskell",
   "language": "haskell",
   "name": "haskell"
  },
  "language_info": {
   "codemirror_mode": "ihaskell",
   "file_extension": ".hs",
   "mimetype": "text/x-haskell",
   "name": "haskell",
   "pygments_lexer": "Haskell",
   "version": "8.10.4"
  }
 },
 "nbformat": 4,
 "nbformat_minor": 5
}
