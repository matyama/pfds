{
 "cells": [
  {
   "cell_type": "markdown",
   "id": "ae1924ad",
   "metadata": {},
   "source": [
    "# Finite Maps\n",
    "*Finite maps* are structures representing lookup tables `m` over certain key type `k`. Besides the `empty` value, maps support two main operations:\n",
    " - `lookup` searches for a value `a` corresponding to given key `k` in a map `m` (this operation may fail which is represented by the `Maybe` functor`)\n",
    " - `bind` associates given key `k` to given value `a` in the context of map `m`, producing an updated map\n",
    "\n",
    "### Implementations\n",
    "There are several abstract data types which can be used to implement `FiniteMaps`, for instance\n",
    " - [*binary search trees*](https://en.wikipedia.org/wiki/Binary_search_tree) will typically yield logarithmic operations (for balanced trees)\n",
    " - [*hash tables*](https://en.wikipedia.org/wiki/Hash_table) provide effectively constant `lookup`s but the actual complexity heavily depends on the key hashing function and collision consolidation\n",
    " - [*tries*](https://en.wikipedia.org/wiki/Trie) (discussed below) are multi-way prefix trees that take an advantage from key structure with $O(|query|)$ `lookup` and no collisions"
   ]
  },
  {
   "cell_type": "code",
   "execution_count": null,
   "id": "b75a9d4c",
   "metadata": {},
   "outputs": [],
   "source": [
    "{-# LANGUAGE MultiParamTypeClasses, FlexibleInstances, FlexibleContexts #-}\n",
    "\n",
    "import Data.Maybe (fromMaybe)\n",
    "\n",
    "class FiniteMap m k where\n",
    "\n",
    "    -- | Construct new (empty) map\n",
    "    empty :: m k a\n",
    "\n",
    "    -- | Retrieve a value given its key\n",
    "    lookup :: k -> m k a -> Maybe a\n",
    "\n",
    "    -- | Bind a value to given key\n",
    "    bind :: k -> a -> m k a -> m k a"
   ]
  },
  {
   "cell_type": "markdown",
   "id": "ba32165c",
   "metadata": {},
   "source": [
    "## Trie\n",
    "*Tries* (also known as *digital search trees*) can be viewed as an extension of *binary search trees* that further exploit the structure of the key type that is used for lookups.\n",
    "\n",
    "In the implementation presented below, `Trie` is used to bootstrap a `FiniteMap` over a *atomic* key type (*base type*) to a map over an *aggregated* key type. For instance, if the atomic key type is a `Char` then the aggregated type can be a list of characters - i.e. a `String`.\n",
    "\n",
    "### Representation\n",
    "The `Trie` representation is similar to the construction of `CatList` or `BootstrapHeap` in that it is a *non-uniform* recursive data type.\n",
    "\n",
    "The `Trie` data type can be viewed as a multi-way tree with\n",
    " - leafs represented by `empty` map `mk` and no values represented by the `Nothing` context\n",
    " - nodes with values `a` in the `Just` context and a non-empty map `mk` mapping edge labels to child `Trie`s\n",
    "\n",
    "More generally, node with `Just a` represents a valid value while `Nothing` represents an invalid node.\n",
    "\n",
    "Given a `FiniteMap m k`, i.e. a map `m` with keys of the base type `k`, we construct a `FiniteMap` over an aggregated key type `[k]` using a `Trie mk ks a` with\n",
    " - the base map type `mk` being `(m k)`, i.e. the structure from the assumed map instance\n",
    " - the aggregated key type `ks` being in this case a list of the base type, i.e. `[k]`\n",
    " - generic values of type `a`\n",
    "\n",
    "### Operations\n",
    "The `lookup` operation is directed by given aggregate key `[k]` and traverses a `Trie`. There are two cases:\n",
    " 1. The aggregate key has been exhausted -> the result depends on the context of the value `v` in the node that has been reached\n",
    " 1. During traversal, we first try to `lookup` the base key `k` in the node's map `m` and then follow by a `lookup` of the rest of the aggregate key `ks`. If the former lookup fails (`k` is not in the prefix) then the latter is not tried and `lookup` returns early.\n",
    "\n",
    "Similar traversal is performed by the `bind` funciton but with the difference that instead of an early return after an unsuccessful `lookup`, a new (`empty`) map is constructed and the traversal (binding) proceeds from this point.\n",
    "\n",
    "The runtime complexity depends on operations of the base `FiniteMap m k`. However, it is clear that since there cannot be any key collisions in a `Trie`, there upper bound on the number of traversal steps is $O(m)$ where $m$ is the size of the aggregate key (i.e. the query).\n",
    "\n",
    "### Benefits\n",
    "As mentioned abote, *tries* can be more efficient than *binary search trees* because the comparison in each node is due to the structure of the key (the map over the base type) more efficient.\n",
    "\n",
    "Contrary to *hash tables*, there are no key collisions in a *trie*. This means tha in order to `lookup` a value in an imperfect hash table, one might actually need $O(n)$ steps (althought this is typically not the case).\n",
    "\n",
    "The more interesting benefit of tries over a hash table is that for an unsuccessful `lookup` in the hash table, the whole key must still be processed to compute the hash. This is, however, not the case for tries which in such case can return early (while also keeping successfull searches exact, contrary to e.g. *bloom filters*)."
   ]
  },
  {
   "cell_type": "code",
   "execution_count": null,
   "id": "d7ccf21a",
   "metadata": {},
   "outputs": [],
   "source": [
    "data Trie mk ks a = Trie (Maybe a) (mk (Trie mk ks a))\n",
    "\n",
    "instance FiniteMap m k => FiniteMap (Trie (m k)) [k] where\n",
    "\n",
    "  -- | Construct new (empty) map in O(1) worst-case time\n",
    "  empty = Trie Nothing empty\n",
    "\n",
    "  -- | Retrieve a value given its key in O(|query|) worst-case time.\n",
    "  -- |\n",
    "  -- | Note: The actual time complexity also depends on 'lookup' of '(m k)'. \n",
    "  lookup []       (Trie v m) = v\n",
    "  lookup (k : ks) (Trie _ m) = lookup k m >>= lookup ks\n",
    "\n",
    "  -- | Bind a value to given key in O(|query|) worst-case time.\n",
    "  -- |\n",
    "  -- | Note: The actual time complexity also depends on 'lookup' and 'bind' of '(m k)'.\n",
    "  bind [] x (Trie _ m) = Trie (Just x) m\n",
    "  bind (k : ks) x (Trie v m) =\n",
    "    let t  = fromMaybe empty (lookup k m)\n",
    "        t' = bind ks x t\n",
    "    in  Trie v (bind k t' m)"
   ]
  },
  {
   "cell_type": "markdown",
   "id": "27e26c50",
   "metadata": {},
   "source": [
    "## Trie of Trees"
   ]
  },
  {
   "cell_type": "code",
   "execution_count": null,
   "id": "1f7dc6ae",
   "metadata": {},
   "outputs": [],
   "source": [
    "data Tree a = E | T a (Tree a) (Tree a)\n",
    "\n",
    "data Trie mk ks a = Trie (Maybe a) (mk (Trie mk ks (Trie mk ks a)))\n",
    "\n",
    "instance FiniteMap m k => FiniteMap (Trie (m k)) (Tree k) where\n",
    "\n",
    "  -- | Construct new (empty) map in O(1) worst-case time\n",
    "  empty = Trie Nothing empty\n",
    "\n",
    "  -- | Retrieve a value given its key\n",
    "  lookup E         (Trie v m) = v\n",
    "  lookup (T k a b) (Trie _ m) = lookup k m >>= lookup a >>= lookup b\n",
    "\n",
    "  -- | Bind a value to given key\n",
    "  bind E x (Trie _ m) = Trie (Just x) m\n",
    "  bind (T k a b) x (Trie v m) =\n",
    "    let tt  = fromMaybe empty (lookup k m)\n",
    "        t   = fromMaybe empty (lookup a tt)\n",
    "        t'  = bind b x t\n",
    "        tt' = bind a t' tt\n",
    "    in  Trie v (bind k tt' m)"
   ]
  }
 ],
 "metadata": {
  "kernelspec": {
   "display_name": "Haskell",
   "language": "haskell",
   "name": "haskell"
  },
  "language_info": {
   "codemirror_mode": "ihaskell",
   "file_extension": ".hs",
   "mimetype": "text/x-haskell",
   "name": "haskell",
   "pygments_lexer": "Haskell",
   "version": "8.10.4"
  }
 },
 "nbformat": 4,
 "nbformat_minor": 5
}
