{
 "cells": [
  {
   "cell_type": "markdown",
   "id": "979ff31a",
   "metadata": {},
   "source": [
    "# Catenable Lists\n",
    "\n",
    "The class of *catenable lists* is an extension of *output-restricted deques* with an efficient catenation operator `++`.\n",
    "\n",
    "|    instance    | persistence | amortization | empty | isEmpty |  cons  |  snoc  |   ++  | head |     tail     |\n",
    "|:--------------:|:-----------:|:------------:|:-----:|:-------:|:------:|:------:|:-----:|:----:|:------------:|\n",
    "| Catenable List |  persistent |      yes     |  O(1) |   O(1)  | O(1)** | O(1)** | O(1)* | O(1) | O(n) / O(1)* |\n",
    "\n",
    "** amortized time*\n",
    "\n",
    "*** depends on the complexity of `snoc` of the underlying queue*"
   ]
  },
  {
   "cell_type": "markdown",
   "id": "8db277fb",
   "metadata": {},
   "source": [
    "## Queue Bootstrapping\n",
    "Since the only instance `CatList` of the `CatenableList` class that is presented here is based on *structural abstraction*, the code sample below includes the definition of an ordinary `Queue`. This *primitive* queue can be an arbitrary persistent FIFO queue with either amortized or worst-case $O(1)$ operations."
   ]
  },
  {
   "cell_type": "code",
   "execution_count": null,
   "id": "4289df61",
   "metadata": {},
   "outputs": [],
   "source": [
    "class Queue q where\n",
    "    \n",
    "    empty :: q a\n",
    "    isEmpty :: q a -> Bool\n",
    "    \n",
    "    snoc :: q a -> a -> q a\n",
    "    \n",
    "    head :: q a -> a\n",
    "    tail :: q a -> q a"
   ]
  },
  {
   "cell_type": "code",
   "execution_count": null,
   "id": "a705f525",
   "metadata": {},
   "outputs": [],
   "source": [
    "class CatenableList c where\n",
    "\n",
    "    empty :: c a\n",
    "    isEmpty :: c a -> Bool\n",
    "    \n",
    "    cons :: a -> c a -> c a\n",
    "    snoc :: c a -> a -> c a\n",
    "    (++) :: c a -> c a -> c a\n",
    "    \n",
    "    head :: c a -> a\n",
    "    tail :: c a -> c a"
   ]
  },
  {
   "cell_type": "markdown",
   "id": "10628c24",
   "metadata": {},
   "source": [
    "## List with Efficient Catenation\n",
    "`CatList` uses *structural abstraction* technique to bootstrap a catenable list instance from an efficient persistent FIFO queue.\n",
    "\n",
    "### Representation\n",
    "The `CatList` is generic not only over the type of elements `a` it contains but also over the type of primitive queue `q` it bootstraps from.\n",
    "\n",
    "There are two constructors:\n",
    " 1. `E` represents an empty list\n",
    " 1. `C a (q ...)` is a non-uniform constructor of a non-empy list containing single element `a` and a primitive queue with elements being catenable lists, i.e. `q (CatList q a)`\n",
    "\n",
    "One can interpret this non-uniform type as a tree with nodes `C` containing elements `a` and trivial leafs `E`.  In this interpretation the children of a node are stored in a queue `q` in a left-to-right order (preorder).\n",
    "\n",
    "### Operations\n",
    "Because elements are stored in a preorder traversal of the tree from the interpretation mentioned above, `head` can be trivially obtained from the root and thus runs in $O(1)$ worst-case time.\n",
    "\n",
    "The main operation in this class is the catenation operator `(++)` which, due to the structural abstraction from FIFO queues, reduces to adding (in this case `link`ing) one list as an element of the primitive queue of the other. Since we assumed an efficient `Queue` instance, `(++)` runs in either $O(1)$ worst-case or amortized time.\n",
    "\n",
    "Similarly to `(++)`, `cons` and `snoc` just link the list together with a new singleton list (or the other way).\n",
    "\n",
    "Finally, `tail` (i.e. removing the head element) is the most complex operation. In the tree interpretation, if the root gets discarded, then `tail` must link all the the children to form a new `CatList`. \n",
    " - This `linkAll` operation first extracts the first child tree `t` and the rest `q'` with `head` and `tail` on the list of children `q` and then `link`s `t` with recursively linked trees in `q'`.\n",
    " - Splitting the children clearly depeneds on `head` and `tail` of the `Queue` (assumed to be $O(1)$) and since each recursive call to `linkAll` is suspended and forced when a tree is removed from the queue, the overall amortized complexity is $O(1)$.\n",
    "\n",
    "### Benefits\n",
    "> Given a good implementation of queues, this is the fastest known implementation of persistent catenable lists, especially for applications that use persistence heavily."
   ]
  },
  {
   "cell_type": "code",
   "execution_count": null,
   "id": "afe80a59",
   "metadata": {},
   "outputs": [],
   "source": [
    "-- | Catenable list which can be interpreted as a tree with elements in nodes 'C' and trivial leafs 'E'\n",
    "data CatList q a = E | C a (q (CatList q a))\n",
    "\n",
    "-- | Link two lists together in O(1) time.\n",
    "-- |\n",
    "-- | Linking is done by adding the second list, interpreted as a tree as the last child of the first one.\n",
    "-- |\n",
    "-- | Note: The time complexity actually depends on the 'snoc' operation of the primitive 'Queue' instance.\n",
    "link :: Queue q => CatList q a -> CatList q a -> CatList q a\n",
    "link (C x q) s = C x (Ghci2.snoc q s)\n",
    "\n",
    "instance Queue q => CatenableList (CatList q) where\n",
    "\n",
    "    -- | Construct new (empty) list in O(1) worst-case time\n",
    "    empty = E\n",
    "    \n",
    "    -- | Check whether a list is empty in O(1) worst-case time\n",
    "    isEmpty E = True\n",
    "    isEmpty _ = False\n",
    "    \n",
    "    -- | Prepend new item to the front of a list in O(1) worst-case or amortized time depending on 'q'\n",
    "    cons x xs = C x Ghci2.empty ++ xs\n",
    "    \n",
    "    -- | Append new item to the back of a list in O(1) worst-case or amortized time depending on 'q'\n",
    "    snoc xs x = xs ++ C x Ghci2.empty\n",
    "    \n",
    "    -- | Append two lists together in O(1) amortized time.\n",
    "    -- |\n",
    "    -- | Note: The complexity depends on 'link', resp. the 'q' instance and amortization comes from\n",
    "    -- |       the potential operation sequencing of '++' and 'tail' (which is amortized).\n",
    "    xs ++ E = xs\n",
    "    E ++ xs = xs\n",
    "    xs ++ ys = link xs ys\n",
    "    \n",
    "    -- | Retrieve the head item of a non-empty list in O(1) worst-case time\n",
    "    head E = error \"List is empty\"\n",
    "    head (C x _) = x\n",
    "    \n",
    "    -- | Remove the head of a non-empty list and retrieve the rear in O(1) amortized time.\n",
    "    -- |\n",
    "    -- | Note: The time complexity assumes efficient 'head', 'tail' and 'snoc' implementations on 'q'.\n",
    "    tail E = error \"List is empty\"\n",
    "    tail (C x q) = if Ghci2.isEmpty q then E else linkAll q\n",
    "        where\n",
    "            linkAll q = if Ghci2.isEmpty q' then t else link t (linkAll q')\n",
    "                where\n",
    "                    t = Ghci2.head q\n",
    "                    q' = Ghci2.tail q"
   ]
  }
 ],
 "metadata": {
  "kernelspec": {
   "display_name": "Haskell",
   "language": "haskell",
   "name": "haskell"
  },
  "language_info": {
   "codemirror_mode": "ihaskell",
   "file_extension": ".hs",
   "mimetype": "text/x-haskell",
   "name": "haskell",
   "pygments_lexer": "Haskell",
   "version": "8.10.4"
  }
 },
 "nbformat": 4,
 "nbformat_minor": 5
}
