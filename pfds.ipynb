{
 "cells": [
  {
   "cell_type": "markdown",
   "id": "310a0c5f",
   "metadata": {},
   "source": [
    "# Purely Functional Data Structures"
   ]
  },
  {
   "cell_type": "markdown",
   "id": "06648373",
   "metadata": {},
   "source": [
    "## Queues"
   ]
  },
  {
   "cell_type": "code",
   "execution_count": null,
   "id": "4c9b6c79",
   "metadata": {},
   "outputs": [],
   "source": [
    "class Queue q where\n",
    "    \n",
    "    -- | Construct new (empty) queue\n",
    "    empty :: q a\n",
    "    \n",
    "    -- | Check whether a queue is empty\n",
    "    isEmpty :: q a -> Bool\n",
    "    \n",
    "    -- | Append new item to the back of a queue\n",
    "    snoc :: q a -> a -> q a\n",
    "    \n",
    "    -- | Retrieve the head item of a non-empty queue\n",
    "    head :: q a -> a\n",
    "    \n",
    "    -- | Remove the head of a non-empty queue and retrieve the rear\n",
    "    tail :: q a -> q a"
   ]
  },
  {
   "cell_type": "markdown",
   "id": "8c216ade",
   "metadata": {},
   "source": [
    "### Batched Queue"
   ]
  },
  {
   "cell_type": "code",
   "execution_count": null,
   "id": "9015ce38",
   "metadata": {},
   "outputs": [],
   "source": [
    "data BatchedQueue a = BQ [a] [a]\n",
    "\n",
    "-- | Helper function that maintains the 'BatchedQueue' invariant:\n",
    "-- | *A queue is empty iff the front part is empty*\n",
    "-- | \n",
    "-- | This invariant is preserved by reversing the rear and replacing the front\n",
    "-- | whenever the front is empty.\n",
    "checkf :: ([a], [a]) -> ([a], [a])\n",
    "checkf ([], r) = (reverse r, [])\n",
    "checkf q = q\n",
    "\n",
    "instance Queue BatchedQueue where\n",
    "    \n",
    "    -- | Constructs new queue in O(1)\n",
    "    empty = BQ [] []\n",
    "\n",
    "    -- | Checks whether the queue is empty in O(1) steps.\n",
    "    -- | Note: This queue maintains the invariant that if the front part is empty, the queue is empty\n",
    "    -- |       check the 'checkf' helper function.\n",
    "    isEmpty (BQ f _) = null f\n",
    "    \n",
    "    -- | Appends new element to the back of the queue.\n",
    "    -- | Runs in O(n), amortized time with 'tail' is O(1).\n",
    "    snoc (BQ f r) x = let (f', r') = checkf(f, x : r) in BQ f' r'\n",
    "    \n",
    "    -- | Retrieves the head of the queue in O(1)\n",
    "    head (BQ [] _) = error \"Queue is empty\"\n",
    "    head (BQ (x:_) _) = x\n",
    "    \n",
    "    -- | Removes the head of the queue and returns the rest.\n",
    "    -- | Runs in O(n), amortized time with 'snoc' is O(1).\n",
    "    tail (BQ [] _) = error \"Queue is empty\"\n",
    "    tail (BQ (x:f) r) = let (f', r') = checkf (f, r) in BQ f' r'"
   ]
  },
  {
   "cell_type": "markdown",
   "id": "cbe88db6",
   "metadata": {},
   "source": [
    "## Sets\n",
    "\n",
    "| Abstract Data Type | empty |   member  |   insert  |\n",
    "|:------------------:|:-----:|:---------:|:---------:|\n",
    "| Binary Search Tree |  O(1) |    O(n)   |    O(n)   |\n",
    "|   Red-Black Tree   |  O(1) | O(log(n)) | O(log(n)) |"
   ]
  },
  {
   "cell_type": "code",
   "execution_count": null,
   "id": "ac26db5a",
   "metadata": {},
   "outputs": [],
   "source": [
    "class Set s where\n",
    "\n",
    "    -- | Construct new (empty) set\n",
    "    empty :: Ord a => s a\n",
    "    \n",
    "    -- | Check whether a set contains given item\n",
    "    member :: Ord a => a -> s a -> Bool\n",
    "    \n",
    "    -- | Add new item to a set while maintaining the item uniqueness property\n",
    "    insert :: Ord a => a -> s a -> s a"
   ]
  },
  {
   "cell_type": "markdown",
   "id": "f41f00c2",
   "metadata": {},
   "source": [
    "### Unbalanced Set\n",
    "Implementation of an unbalanced set via a *Binary Search Tree (BST)*."
   ]
  },
  {
   "cell_type": "code",
   "execution_count": null,
   "id": "ce710441",
   "metadata": {},
   "outputs": [],
   "source": [
    "data Tree a = Empty | Node (Tree a) a (Tree a)\n",
    "\n",
    "instance Set Tree where\n",
    "\n",
    "    -- | Construct an empty set in O(1).\n",
    "    empty = Empty\n",
    "    \n",
    "    -- | Check whether this set contains given item.\n",
    "    -- | Since the underlying BST may not be balanced, this function may take O(n) steps in the worst case.\n",
    "    member _ Empty = False\n",
    "    member x (Node a y b) = case (compare x y) of\n",
    "        EQ -> True\n",
    "        LT -> member x a\n",
    "        GT -> member x b\n",
    "    \n",
    "    -- | Add new item to this set if it's not present yet.\n",
    "    -- | Similarly to 'member', for an unbalanced instance this may take up to O(n) steps.\n",
    "    insert x Empty = Node Empty x Empty\n",
    "    insert x s @ (Node a y b) = case (compare x y) of\n",
    "        EQ -> s\n",
    "        LT -> Node (insert x a) y b\n",
    "        GT -> Node a y (insert x b)"
   ]
  },
  {
   "cell_type": "markdown",
   "id": "6566d6fc",
   "metadata": {},
   "source": [
    "### Balanced Set\n",
    "Implementation of a balanced set via a [Red-Black Tree](https://en.wikipedia.org/wiki/Red%E2%80%93black_tree) without any fancy optimizations. Specifically, in `ins` (e.g. for the left child) dosn't have to check for all the red-red violations in `balance` (actually it does not have to check the color of any node not on the search path)."
   ]
  },
  {
   "cell_type": "code",
   "execution_count": null,
   "id": "d88b92e8",
   "metadata": {},
   "outputs": [],
   "source": [
    "data Color = R | B\n",
    "\n",
    "data Tree a = Empty | Node Color (Tree a) a (Tree a)\n",
    "\n",
    "-- | Re-balance and locally repair the RBT color property by pushing\n",
    "-- | one of two consecutive red nodes with a black parent up the path to the root.\n",
    "balance :: Color -> Tree a -> a -> Tree a -> Tree a\n",
    "balance B (Node R (Node R a x b) y c) z d = Node R (Node B a x b) y (Node B c z d)\n",
    "balance B (Node R a x (Node R b y c)) z d = Node R (Node B a x b) y (Node B c z d)\n",
    "balance B a x (Node R (Node R b y c) z d) = Node R (Node B a x b) y (Node B c z d)\n",
    "balance B a x (Node R b y (Node R c z d)) = Node R (Node B a x b) y (Node B c z d)\n",
    "balance color a x b = Node color a x b\n",
    "\n",
    "instance Set Tree where \n",
    "\n",
    "    -- | Construct an empty set in O(1).\n",
    "    empty = Empty\n",
    "    \n",
    "    -- | Check whether this set contains given item.\n",
    "    -- | Since the underlying RBT is balanced, this function takes O(log(n)) steps in the worst case.\n",
    "    member _ Empty = False\n",
    "    member x (Node _ a y b) = case (compare x y) of\n",
    "        EQ -> True\n",
    "        LT -> member x a\n",
    "        GT -> member x b\n",
    "    \n",
    "    -- | Add new item to this set if it's not present yet.\n",
    "    -- |\n",
    "    -- | Call to 'insert' takes at most O(log(n)) steps because the tree is kept balanced by\n",
    "    -- | 'balance' when backing up after adding new node and the fact that in a RB tree the deepest\n",
    "    -- | leaf is at most twice as far from the root as the shallowest leaf is.\n",
    "    insert x Empty = Node R Empty x Empty\n",
    "    insert x s = let (Node _ a y b) = ins s in Node B a y b\n",
    "        where\n",
    "            ins Empty = Node R Empty x Empty\n",
    "            ins s @ (Node color a y b) = case (compare x y) of\n",
    "                EQ -> s\n",
    "                LT -> balance color (ins a) y b\n",
    "                GT -> balance color a y (ins b)"
   ]
  },
  {
   "cell_type": "markdown",
   "id": "cec3056c",
   "metadata": {},
   "source": [
    "## Heaps\n",
    "\n",
    "| Abstract Data Type | empty | isEmpty |   insert  |   merge   | findMin | deleteMin |\n",
    "|:------------------:|:-----:|:-------:|:---------:|:---------:|:-------:|:---------:|\n",
    "|    Leftist Heap    |  O(1) |   O(1)  | O(log(n)) | O(log(n)) |   O(1)  | O(log(n)) |"
   ]
  },
  {
   "cell_type": "code",
   "execution_count": null,
   "id": "29c64c3e",
   "metadata": {},
   "outputs": [],
   "source": [
    "class Heap h where\n",
    "\n",
    "    -- | Construct new (empty) heap\n",
    "    empty :: Ord a => h a\n",
    "    \n",
    "    -- | Check whether a heap is empty\n",
    "    isEmpty :: h a -> Bool\n",
    "    \n",
    "    -- | Add new item to a heap\n",
    "    insert :: Ord a => a -> h a -> h a\n",
    "    \n",
    "    -- | Merge two heaps together\n",
    "    merge :: Ord a => h a -> h a -> h a\n",
    "    \n",
    "    -- | Retrieve the minimum element of a heap\n",
    "    findMin :: Ord a => h a -> a\n",
    "    \n",
    "    -- | Remove the minimum element of a heap and return resulting heap\n",
    "    deleteMin :: Ord a => h a -> h a"
   ]
  },
  {
   "cell_type": "markdown",
   "id": "4c87facb",
   "metadata": {},
   "source": [
    "### Leftist Heap\n",
    "This implementation is based on a [Leftist tree](https://en.wikipedia.org/wiki/Leftist_tree) without any fancy optimization techniques. Notably, in this implementation `merge` takes two passes:\n",
    " 1. top-down pass consisting of calls to `merge`\n",
    " 1. bottom-up pass consisting of calls to `makeNode`"
   ]
  },
  {
   "cell_type": "code",
   "execution_count": null,
   "id": "09b659b7",
   "metadata": {},
   "outputs": [],
   "source": [
    "data LeftistHeap a = Empty | Node Int a (LeftistHeap a) (LeftistHeap a)\n",
    "\n",
    "-- | Extract the rank of a heap node (zero for empty heap)\n",
    "rank :: LeftistHeap a -> Int\n",
    "rank Empty = 0\n",
    "rank (Node r _ _ _) = r\n",
    "\n",
    "-- | Create new heap node with given sub-trees while maintaining that\n",
    "-- | the rank of the left sub-tree is at least as large as the right one.\n",
    "makeNode :: Ord a => a -> LeftistHeap a -> LeftistHeap a -> LeftistHeap a\n",
    "makeNode x a b = if ra >= rb then Node (rb + 1) x a b else Node (ra + 1) x b a\n",
    "    where\n",
    "        ra = rank a\n",
    "        rb = rank b\n",
    "\n",
    "instance Heap LeftistHeap where\n",
    "\n",
    "    -- | Construct an empty heap in O(1).\n",
    "    empty = Empty\n",
    "    \n",
    "    -- | Check whether given heap is empty in O(1).\n",
    "    isEmpty Empty = True\n",
    "    isEmpty _ = False\n",
    "    \n",
    "    -- | Add new item to the heap.\n",
    "    -- |\n",
    "    -- | The item is first turned to a trivial heap and merged into.\n",
    "    -- | Therefore this call runs in O(log(n)) steps in the worst case.\n",
    "    insert x h = merge (Node 1 x Empty Empty) h\n",
    "    \n",
    "    -- | Merge two heaps together in O(log(n)) steps.\n",
    "    -- | Note: The tree is kept balanced because 'makeNode' balances sub-trees via 'rank'.\n",
    "    merge h Empty = h\n",
    "    merge Empty h = h\n",
    "    merge h1 @ (Node _ x a1 b1) h2 @ (Node _ y a2 b2) = \n",
    "        if x <= y then makeNode x a1 (merge b1 h2)\n",
    "        else makeNode y a2 (merge h1 b2)\n",
    "    \n",
    "    -- | Retrieve the minimum element of a heap in O(1) worst case time.\n",
    "    findMin Empty = error \"Heap is empty\"\n",
    "    findMin (Node _ x _ _) = x\n",
    "    \n",
    "    -- | Remove the minimum element of a heap.\n",
    "    -- | \n",
    "    -- | Becasue the minimum element is the root, this funciton just calls 'merge' on\n",
    "    -- | both root sub-trees and thus runs in O(log(n)) worst case time.\n",
    "    deleteMin Empty = error \"Heap is empty\"\n",
    "    deleteMin (Node _ x a b) = merge a b"
   ]
  }
 ],
 "metadata": {
  "kernelspec": {
   "display_name": "Haskell",
   "language": "haskell",
   "name": "haskell"
  },
  "language_info": {
   "codemirror_mode": "ihaskell",
   "file_extension": ".hs",
   "mimetype": "text/x-haskell",
   "name": "haskell",
   "pygments_lexer": "Haskell",
   "version": "8.10.4"
  }
 },
 "nbformat": 4,
 "nbformat_minor": 5
}
